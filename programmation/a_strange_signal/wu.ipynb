{
 "cells": [
  {
   "cell_type": "code",
   "execution_count": null,
   "id": "333c303d",
   "metadata": {},
   "outputs": [],
   "source": [
    "import pandas as pd\n",
    "import io\n",
    "def file_to_dataframe(file_path):\n",
    "    # Read the file\n",
    "    with open(file_path, 'r') as file:\n",
    "        data = file.read()\n",
    "    \n",
    "    \n",
    "    float_list = data.split(';')\n",
    "    \n",
    "   \n",
    "    df = pd.DataFrame({'Floats': float_list})\n",
    "    \n",
    "    return df\n",
    "\n",
    "\n",
    "file_path = 'Challenge_Wow!.txt'\n",
    "df = file_to_dataframe(file_path)\n",
    "print(df.head()) \n"
   ]
  },
  {
   "cell_type": "code",
   "execution_count": 23,
   "id": "5a134091",
   "metadata": {},
   "outputs": [],
   "source": [
    "import pandas as pd\n",
    "\n",
    "def encode_values_extended(dataframe):\n",
    "    def encode(x):\n",
    "        try:\n",
    "            val = float(x)\n",
    "        except ValueError:\n",
    "            return x \n",
    "\n",
    "        if val < 0:\n",
    "            return x \n",
    "\n",
    "       \n",
    "        while val >= 36:\n",
    "            val -= 36\n",
    "\n",
    "        if 0 <= val < 10:\n",
    "            return int(val)\n",
    "        elif 10 <= val < 36:\n",
    "            return chr(int(val) - 10 + ord('A'))\n",
    "\n",
    "    #fonction d'encodage\n",
    "    return dataframe.applymap(encode)"
   ]
  },
  {
   "cell_type": "code",
   "execution_count": null,
   "id": "630c7410",
   "metadata": {},
   "outputs": [],
   "source": [
    "df_encoded_example = encode_values_extended(df)\n",
    "print(df_encoded_example)"
   ]
  },
  {
   "cell_type": "code",
   "execution_count": 25,
   "id": "549d0c03",
   "metadata": {},
   "outputs": [],
   "source": [
    "#Crée fichier solution\n",
    "joined_values = ''.join(df_encoded_example['Floats'].astype(str))\n",
    "\n",
    "\n",
    "output_file = 'michel_est_le_boss.txt'\n",
    "\n",
    "\n",
    "with open(output_file, 'w') as file:\n",
    "    file.write(joined_values)\n"
   ]
  },
  {
   "cell_type": "code",
   "execution_count": null,
   "id": "a19467bb",
   "metadata": {},
   "outputs": [],
   "source": [
    "pd.set_option('display.max_rows', None) \n",
    "pd.set_option('display.max_columns', None) \n",
    "print(df)\n"
   ]
  },
  {
   "cell_type": "code",
   "execution_count": null,
   "id": "488c87cd",
   "metadata": {},
   "outputs": [],
   "source": [
    "serge = encode_values_extended(df)\n",
    "print(serge)"
   ]
  },
  {
   "cell_type": "code",
   "execution_count": 28,
   "id": "b50443a0",
   "metadata": {},
   "outputs": [],
   "source": [
    "bouge=serge"
   ]
  },
  {
   "cell_type": "code",
   "execution_count": 29,
   "id": "10388c52",
   "metadata": {},
   "outputs": [
    {
     "name": "stdout",
     "output_type": "stream",
     "text": [
      "[('Floats', 7628, 7629, 7630, 7631)]\n"
     ]
    }
   ],
   "source": [
    "import pandas as pd\n",
    "\n",
    "#fonction pour retrouve position flag\n",
    "def trouver_flag(df):\n",
    "    positions = []\n",
    "    for col in df.columns:\n",
    "        for i in range(len(df) - 3):\n",
    "            if df[col].iloc[i] == 'H' and df[col].iloc[i+1] == 'A' and df[col].iloc[i+2] == 'C' and df[col].iloc[i+3] == 'K':\n",
    "                positions.append((col, i, i+1, i+2, i+3))\n",
    "    return positions\n",
    "\n",
    "\n",
    "positions_flag = trouver_flag(bouge)\n",
    "print(positions_flag)\n"
   ]
  }
 ],
 "metadata": {
  "kernelspec": {
   "display_name": "Python 3 (ipykernel)",
   "language": "python",
   "name": "python3"
  },
  "language_info": {
   "codemirror_mode": {
    "name": "ipython",
    "version": 3
   },
   "file_extension": ".py",
   "mimetype": "text/x-python",
   "name": "python",
   "nbconvert_exporter": "python",
   "pygments_lexer": "ipython3",
   "version": "3.11.3"
  }
 },
 "nbformat": 4,
 "nbformat_minor": 5
}
